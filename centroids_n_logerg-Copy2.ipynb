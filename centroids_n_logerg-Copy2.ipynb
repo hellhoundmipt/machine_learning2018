{
 "cells": [
  {
   "cell_type": "code",
   "execution_count": 1,
   "metadata": {},
   "outputs": [],
   "source": [
    "import numpy as np\n",
    "from nltk.corpus import stopwords\n",
    "from nltk.tokenize import TweetTokenizer\n",
    "from tqdm import tqdm\n",
    "from tqdm import trange\n",
    "import jsonlines\n",
    "from scipy import sparse\n",
    "from os import listdir\n",
    "import itertools\n",
    "import networkx as nx\n",
    "import re\n",
    "from collections import Counter\n",
    "import json\n",
    "import pymorphy2 as pm\n",
    "import matplotlib.pyplot as plt\n",
    "from scipy.sparse import load_npz\n",
    "import networkx as nx\n",
    "from math import log\n",
    "\n",
    "from sklearn.neighbors import KNeighborsClassifier\n",
    "from sklearn.model_selection import cross_val_score\n",
    "from sklearn.model_selection import cross_validate\n",
    "from sklearn.model_selection import KFold\n",
    "from sklearn.metrics import precision_score\n",
    "from sklearn.metrics import recall_score\n",
    "from sklearn.metrics import f1_score\n",
    "from sklearn.feature_extraction.text import TfidfVectorizer\n",
    "from sklearn.decomposition import TruncatedSVD\n",
    "from sklearn.neighbors import NearestCentroid\n",
    "from sklearn.neighbors import NearestNeighbors\n",
    "from sklearn.linear_model import LogisticRegression\n",
    "from sklearn.externals import joblib\n",
    "\n",
    "\n",
    "from sklearn.metrics import precision_score\n",
    "from sklearn.metrics import recall_score\n",
    "from sklearn.metrics import f1_score\n",
    "\n",
    "\n",
    "stopwords_ru = set(stopwords.words('russian'))\n",
    "tknzr = TweetTokenizer()\n",
    "morph = pm.MorphAnalyzer()"
   ]
  },
  {
   "cell_type": "code",
   "execution_count": 2,
   "metadata": {},
   "outputs": [],
   "source": [
    "ok_set = set()\n",
    "with open(\"sources/accepted_categories.txt\", mode=\"r\", encoding=\"utf-8\") as inp:\n",
    "    for line in inp:\n",
    "        line = line[:-1]\n",
    "        ok_set.add(line)\n",
    "\n",
    "ok = sorted(ok_set)\n",
    "\n",
    "categories_dict = {}\n",
    "with open(\"sources/article_cat.json\", mode=\"r\") as input:\n",
    "    categories_dict = json.loads(input.read())\n",
    "    \n",
    "    \n",
    "cat_id = {}\n",
    "with open(\"sources/cat_id.json\", mode=\"r\") as input:\n",
    "    cat_id = json.loads(input.read())\n",
    "    \n",
    "id_cat ={}\n",
    "with open(\"sources/id_cat.json\", mode=\"r\") as input:\n",
    "    id_cat = json.loads(input.read())\n",
    "    \n",
    "cat_graph = nx.read_gpickle(\"sources/graph.gpickle\")"
   ]
  },
  {
   "cell_type": "code",
   "execution_count": 3,
   "metadata": {},
   "outputs": [],
   "source": [
    "clf_binlogreg = [joblib.load(\"sources/binlogreg_clfs/binlogreg_tfidf_tfidf0.pkl\"),\n",
    "                joblib.load(\"sources/binlogreg_clfs/binlogreg_tfidf_tfidf1.pkl\"),\n",
    "                joblib.load(\"sources/binlogreg_clfs/binlogreg_tfidf_tfidf2.pkl\")]\n",
    "X = load_npz(\"sources/tf_idf.npz\")\n",
    "class_centroids = load_npz(\"sources/centroids_tfidf.npz\")\n",
    "filter_centroids = load_npz(\"sources/centroids_tfidf.npz\")"
   ]
  },
  {
   "cell_type": "code",
   "execution_count": 3,
   "metadata": {},
   "outputs": [],
   "source": [
    "#for svd\n",
    "X = np.load(\"sources/svd500.npy\")\n",
    "class_centroids = np.load(\"sources/centroids_svd500.npy\")\n",
    "X = X.astype(np.float16)\n",
    "class_centroids = class_centroids.astype(np.float16)"
   ]
  },
  {
   "cell_type": "code",
   "execution_count": 4,
   "metadata": {},
   "outputs": [],
   "source": [
    "ids = sorted([item['id'] for item in jsonlines.open('sources/normalized_texts.jl', 'r')])"
   ]
  },
  {
   "cell_type": "code",
   "execution_count": 5,
   "metadata": {},
   "outputs": [],
   "source": [
    "class CustomKNN:\n",
    "    \n",
    "    def __init__(self, n_neighbors=5):\n",
    "        self.clf = NearestNeighbors(n_neighbors=n_neighbors, n_jobs=-1)\n",
    "        self.n_neighbors = n_neighbors\n",
    "    \n",
    "    \n",
    "    def fit(self, X_train, y_train):\n",
    "        self.clf.fit(X_train)\n",
    "        self.categories = y_train\n",
    "        \n",
    "        \n",
    "    def predict(self, X_test, n_neighbors=None):\n",
    "        if n_neighbors is None:\n",
    "            n_neighbors = self.n_neighbors\n",
    "            \n",
    "        kneighbors = self.clf.kneighbors(X_test, n_neighbors, return_distance=False)\n",
    "        res = []\n",
    "        for neighs in kneighbors:\n",
    "            curr_neigh = np.zeros(self.categories.shape[1], dtype=int)\n",
    "            for neigh in neighs:\n",
    "                curr_neigh = np.bitwise_or(self.categories[neigh], curr_neigh)\n",
    "            res.append(curr_neigh)\n",
    "        \n",
    "        return np.array(res)\n",
    "        "
   ]
  },
  {
   "cell_type": "code",
   "execution_count": 6,
   "metadata": {},
   "outputs": [],
   "source": [
    "def metric(res, true):\n",
    "    if len(res) == 0:\n",
    "        return 0\n",
    "    \n",
    "    hits = 0\n",
    "    for c in res:\n",
    "        if c in true:\n",
    "            hits += 1\n",
    "    return hits / len(res)\n"
   ]
  },
  {
   "cell_type": "code",
   "execution_count": 7,
   "metadata": {},
   "outputs": [],
   "source": [
    "class MGIA:\n",
    "    \n",
    "    def __init__(self, G):\n",
    "        self.G = G.to_undirected()\n",
    "        self.flow = nx.DiGraph()\n",
    "        \n",
    "    def score(self, TRUE, PRED):\n",
    "        self.flow.clear()\n",
    "        M = len(PRED)\n",
    "        N = len(TRUE)\n",
    "        infinity = 130 #10 #G.number_of_edges()\n",
    "        self.flow.add_node('source', demand=0)\n",
    "        self.flow.add_node('sink', demand=M-N)\n",
    "        self.flow.add_node('DP', demand=0)\n",
    "        self.flow.add_node('DT', demand=0)\n",
    "        self.flow.add_edge('source', 'DP', capacity=N, weight=0)\n",
    "        self.flow.add_edge('DT', 'sink', capacity=M, weight=0)\n",
    "        self.flow.add_edge('sink', 'source', capacity=(M)*(N+1), weight=0)\n",
    "        for pred in PRED:\n",
    "            _pred = 'p' + str(pred)\n",
    "            self.flow.add_node(_pred, demand=-1)\n",
    "            self.flow.add_edge('source', _pred, capacity=N, weight=0)\n",
    "            self.flow.add_edge(_pred, 'DT', capacity=1, weight=infinity)\n",
    "        for true in TRUE:\n",
    "            _true = 't' + str(true)\n",
    "            self.flow.add_node(_true, demand=1)\n",
    "            self.flow.add_edge(_true, 'sink', capacity=M, weight=0)\n",
    "            self.flow.add_edge('DP', _true, capacity=1, weight=infinity)\n",
    "            for pred in PRED:\n",
    "                k_ij = nx.shortest_path_length(self.G, source=pred, target=true)\n",
    "                self.flow.add_edge('p' + str(pred), _true, capacity=1, weight=k_ij * k_ij * k_ij)\n",
    "\n",
    "        flowCost, flowDict = nx.network_simplex(self.flow)\n",
    "        low = (len(PRED.union(TRUE).difference(PRED.intersection(TRUE))))\n",
    "        #print(\"Len = \", len(TRUE), len(PRED), low)\n",
    "        if low == 0:\n",
    "            accuracy = 1\n",
    "        else:\n",
    "            accuracy = 1 - flowCost / (low * infinity)\n",
    "        #print(accuracy)\n",
    "        return accuracy"
   ]
  },
  {
   "cell_type": "markdown",
   "metadata": {},
   "source": [
    "### Тут просто custom knn"
   ]
  },
  {
   "cell_type": "code",
   "execution_count": 8,
   "metadata": {},
   "outputs": [],
   "source": [
    "y = np.zeros((len(ids), len(ok)), dtype=np.int8)\n",
    "for i in range(len(ids)):\n",
    "    for c in categories_dict[ids[i]]:\n",
    "        y[i][ok.index(c)] = 1"
   ]
  },
  {
   "cell_type": "code",
   "execution_count": 9,
   "metadata": {},
   "outputs": [
    {
     "name": "stdout",
     "output_type": "stream",
     "text": [
      "TRAIN: [    0     1     2 ... 96790 96792 96793] TEST: [    3     4     7 ... 96785 96789 96791]\n",
      "64529 32265\n"
     ]
    },
    {
     "name": "stderr",
     "output_type": "stream",
     "text": [
      "100%|██████████████████████████████████████████████████████████████████████████████████| 41/41 [53:01<00:00, 77.60s/it]\n"
     ]
    },
    {
     "name": "stdout",
     "output_type": "stream",
     "text": [
      "0.23135548321005528\n",
      "0.6340072339966272\n",
      "0.33900478276539175\n",
      "0.5352424581086974\n",
      "TRAIN: [    2     3     4 ... 96791 96792 96793] TEST: [    0     1     5 ... 96787 96788 96790]\n",
      "64529 32265\n"
     ]
    },
    {
     "name": "stderr",
     "output_type": "stream",
     "text": [
      "100%|██████████████████████████████████████████████████████████████████████████████████| 41/41 [53:23<00:00, 78.14s/it]\n"
     ]
    },
    {
     "name": "stdout",
     "output_type": "stream",
     "text": [
      "0.2258104856797174\n",
      "0.6250803515181074\n",
      "0.3317692272489149\n",
      "0.5327344293795426\n",
      "TRAIN: [    0     1     3 ... 96789 96790 96791] TEST: [    2     6     9 ... 96786 96792 96793]\n",
      "64530 32264\n"
     ]
    },
    {
     "name": "stderr",
     "output_type": "stream",
     "text": [
      " 63%|████████████████████████████████████████████████████                              | 26/41 [37:07<21:24, 85.66s/it]"
     ]
    },
    {
     "ename": "KeyboardInterrupt",
     "evalue": "",
     "output_type": "error",
     "traceback": [
      "\u001b[1;31m---------------------------------------------------------------------------\u001b[0m",
      "\u001b[1;31mKeyboardInterrupt\u001b[0m                         Traceback (most recent call last)",
      "\u001b[1;32m<ipython-input-9-99588176fc10>\u001b[0m in \u001b[0;36m<module>\u001b[1;34m()\u001b[0m\n\u001b[0;32m     34\u001b[0m             \u001b[0m_Res\u001b[0m \u001b[1;33m=\u001b[0m \u001b[0mset\u001b[0m\u001b[1;33m(\u001b[0m\u001b[0mcat_id\u001b[0m\u001b[1;33m[\u001b[0m\u001b[0mc\u001b[0m\u001b[1;33m]\u001b[0m \u001b[1;32mfor\u001b[0m \u001b[0mc\u001b[0m \u001b[1;32min\u001b[0m \u001b[0m_res\u001b[0m\u001b[1;33m)\u001b[0m\u001b[1;33m\u001b[0m\u001b[0m\n\u001b[0;32m     35\u001b[0m \u001b[1;33m\u001b[0m\u001b[0m\n\u001b[1;32m---> 36\u001b[1;33m             \u001b[0m_mgia_score\u001b[0m \u001b[1;33m=\u001b[0m \u001b[0mmgia\u001b[0m\u001b[1;33m.\u001b[0m\u001b[0mscore\u001b[0m\u001b[1;33m(\u001b[0m\u001b[0m_Y_true\u001b[0m\u001b[1;33m,\u001b[0m \u001b[0m_Res\u001b[0m\u001b[1;33m)\u001b[0m\u001b[1;33m\u001b[0m\u001b[0m\n\u001b[0m\u001b[0;32m     37\u001b[0m             \u001b[0m_prec\u001b[0m \u001b[1;33m=\u001b[0m \u001b[0mmetric\u001b[0m\u001b[1;33m(\u001b[0m\u001b[0m_res\u001b[0m\u001b[1;33m,\u001b[0m \u001b[0m_y_true\u001b[0m\u001b[1;33m)\u001b[0m\u001b[1;33m\u001b[0m\u001b[0m\n\u001b[0;32m     38\u001b[0m             \u001b[0m_rec\u001b[0m \u001b[1;33m=\u001b[0m \u001b[0mmetric\u001b[0m\u001b[1;33m(\u001b[0m\u001b[0m_y_true\u001b[0m\u001b[1;33m,\u001b[0m \u001b[0m_res\u001b[0m\u001b[1;33m)\u001b[0m\u001b[1;33m\u001b[0m\u001b[0m\n",
      "\u001b[1;32m<ipython-input-7-4698b33b8e85>\u001b[0m in \u001b[0;36mscore\u001b[1;34m(self, TRUE, PRED)\u001b[0m\n\u001b[0;32m     28\u001b[0m             \u001b[0mself\u001b[0m\u001b[1;33m.\u001b[0m\u001b[0mflow\u001b[0m\u001b[1;33m.\u001b[0m\u001b[0madd_edge\u001b[0m\u001b[1;33m(\u001b[0m\u001b[1;34m'DP'\u001b[0m\u001b[1;33m,\u001b[0m \u001b[0m_true\u001b[0m\u001b[1;33m,\u001b[0m \u001b[0mcapacity\u001b[0m\u001b[1;33m=\u001b[0m\u001b[1;36m1\u001b[0m\u001b[1;33m,\u001b[0m \u001b[0mweight\u001b[0m\u001b[1;33m=\u001b[0m\u001b[0minfinity\u001b[0m\u001b[1;33m)\u001b[0m\u001b[1;33m\u001b[0m\u001b[0m\n\u001b[0;32m     29\u001b[0m             \u001b[1;32mfor\u001b[0m \u001b[0mpred\u001b[0m \u001b[1;32min\u001b[0m \u001b[0mPRED\u001b[0m\u001b[1;33m:\u001b[0m\u001b[1;33m\u001b[0m\u001b[0m\n\u001b[1;32m---> 30\u001b[1;33m                 \u001b[0mk_ij\u001b[0m \u001b[1;33m=\u001b[0m \u001b[0mnx\u001b[0m\u001b[1;33m.\u001b[0m\u001b[0mshortest_path_length\u001b[0m\u001b[1;33m(\u001b[0m\u001b[0mself\u001b[0m\u001b[1;33m.\u001b[0m\u001b[0mG\u001b[0m\u001b[1;33m,\u001b[0m \u001b[0msource\u001b[0m\u001b[1;33m=\u001b[0m\u001b[0mpred\u001b[0m\u001b[1;33m,\u001b[0m \u001b[0mtarget\u001b[0m\u001b[1;33m=\u001b[0m\u001b[0mtrue\u001b[0m\u001b[1;33m)\u001b[0m\u001b[1;33m\u001b[0m\u001b[0m\n\u001b[0m\u001b[0;32m     31\u001b[0m                 \u001b[0mself\u001b[0m\u001b[1;33m.\u001b[0m\u001b[0mflow\u001b[0m\u001b[1;33m.\u001b[0m\u001b[0madd_edge\u001b[0m\u001b[1;33m(\u001b[0m\u001b[1;34m'p'\u001b[0m \u001b[1;33m+\u001b[0m \u001b[0mstr\u001b[0m\u001b[1;33m(\u001b[0m\u001b[0mpred\u001b[0m\u001b[1;33m)\u001b[0m\u001b[1;33m,\u001b[0m \u001b[0m_true\u001b[0m\u001b[1;33m,\u001b[0m \u001b[0mcapacity\u001b[0m\u001b[1;33m=\u001b[0m\u001b[1;36m1\u001b[0m\u001b[1;33m,\u001b[0m \u001b[0mweight\u001b[0m\u001b[1;33m=\u001b[0m\u001b[0mk_ij\u001b[0m \u001b[1;33m*\u001b[0m \u001b[0mk_ij\u001b[0m \u001b[1;33m*\u001b[0m \u001b[0mk_ij\u001b[0m\u001b[1;33m)\u001b[0m\u001b[1;33m\u001b[0m\u001b[0m\n\u001b[0;32m     32\u001b[0m \u001b[1;33m\u001b[0m\u001b[0m\n",
      "\u001b[1;32m~\\Anaconda3\\lib\\site-packages\\networkx\\algorithms\\shortest_paths\\generic.py\u001b[0m in \u001b[0;36mshortest_path_length\u001b[1;34m(G, source, target, weight)\u001b[0m\n\u001b[0;32m    254\u001b[0m             \u001b[1;31m# Find shortest source-target path.\u001b[0m\u001b[1;33m\u001b[0m\u001b[1;33m\u001b[0m\u001b[0m\n\u001b[0;32m    255\u001b[0m             \u001b[1;32mif\u001b[0m \u001b[0mweight\u001b[0m \u001b[1;32mis\u001b[0m \u001b[1;32mNone\u001b[0m\u001b[1;33m:\u001b[0m\u001b[1;33m\u001b[0m\u001b[0m\n\u001b[1;32m--> 256\u001b[1;33m                 \u001b[0mp\u001b[0m \u001b[1;33m=\u001b[0m \u001b[0mnx\u001b[0m\u001b[1;33m.\u001b[0m\u001b[0mbidirectional_shortest_path\u001b[0m\u001b[1;33m(\u001b[0m\u001b[0mG\u001b[0m\u001b[1;33m,\u001b[0m \u001b[0msource\u001b[0m\u001b[1;33m,\u001b[0m \u001b[0mtarget\u001b[0m\u001b[1;33m)\u001b[0m\u001b[1;33m\u001b[0m\u001b[0m\n\u001b[0m\u001b[0;32m    257\u001b[0m                 \u001b[0mpaths\u001b[0m \u001b[1;33m=\u001b[0m \u001b[0mlen\u001b[0m\u001b[1;33m(\u001b[0m\u001b[0mp\u001b[0m\u001b[1;33m)\u001b[0m \u001b[1;33m-\u001b[0m \u001b[1;36m1\u001b[0m\u001b[1;33m\u001b[0m\u001b[0m\n\u001b[0;32m    258\u001b[0m             \u001b[1;32melse\u001b[0m\u001b[1;33m:\u001b[0m\u001b[1;33m\u001b[0m\u001b[0m\n",
      "\u001b[1;32m~\\Anaconda3\\lib\\site-packages\\networkx\\algorithms\\shortest_paths\\unweighted.py\u001b[0m in \u001b[0;36mbidirectional_shortest_path\u001b[1;34m(G, source, target)\u001b[0m\n\u001b[0;32m    224\u001b[0m \u001b[1;33m\u001b[0m\u001b[0m\n\u001b[0;32m    225\u001b[0m     \u001b[1;31m# call helper to do the real work\u001b[0m\u001b[1;33m\u001b[0m\u001b[1;33m\u001b[0m\u001b[0m\n\u001b[1;32m--> 226\u001b[1;33m     \u001b[0mresults\u001b[0m \u001b[1;33m=\u001b[0m \u001b[0m_bidirectional_pred_succ\u001b[0m\u001b[1;33m(\u001b[0m\u001b[0mG\u001b[0m\u001b[1;33m,\u001b[0m \u001b[0msource\u001b[0m\u001b[1;33m,\u001b[0m \u001b[0mtarget\u001b[0m\u001b[1;33m)\u001b[0m\u001b[1;33m\u001b[0m\u001b[0m\n\u001b[0m\u001b[0;32m    227\u001b[0m     \u001b[0mpred\u001b[0m\u001b[1;33m,\u001b[0m \u001b[0msucc\u001b[0m\u001b[1;33m,\u001b[0m \u001b[0mw\u001b[0m \u001b[1;33m=\u001b[0m \u001b[0mresults\u001b[0m\u001b[1;33m\u001b[0m\u001b[0m\n\u001b[0;32m    228\u001b[0m \u001b[1;33m\u001b[0m\u001b[0m\n",
      "\u001b[1;32m~\\Anaconda3\\lib\\site-packages\\networkx\\algorithms\\shortest_paths\\unweighted.py\u001b[0m in \u001b[0;36m_bidirectional_pred_succ\u001b[1;34m(G, source, target)\u001b[0m\n\u001b[0;32m    277\u001b[0m                 \u001b[1;32mfor\u001b[0m \u001b[0mw\u001b[0m \u001b[1;32min\u001b[0m \u001b[0mGsucc\u001b[0m\u001b[1;33m[\u001b[0m\u001b[0mv\u001b[0m\u001b[1;33m]\u001b[0m\u001b[1;33m:\u001b[0m\u001b[1;33m\u001b[0m\u001b[0m\n\u001b[0;32m    278\u001b[0m                     \u001b[1;32mif\u001b[0m \u001b[0mw\u001b[0m \u001b[1;32mnot\u001b[0m \u001b[1;32min\u001b[0m \u001b[0mpred\u001b[0m\u001b[1;33m:\u001b[0m\u001b[1;33m\u001b[0m\u001b[0m\n\u001b[1;32m--> 279\u001b[1;33m                         \u001b[0mforward_fringe\u001b[0m\u001b[1;33m.\u001b[0m\u001b[0mappend\u001b[0m\u001b[1;33m(\u001b[0m\u001b[0mw\u001b[0m\u001b[1;33m)\u001b[0m\u001b[1;33m\u001b[0m\u001b[0m\n\u001b[0m\u001b[0;32m    280\u001b[0m                         \u001b[0mpred\u001b[0m\u001b[1;33m[\u001b[0m\u001b[0mw\u001b[0m\u001b[1;33m]\u001b[0m \u001b[1;33m=\u001b[0m \u001b[0mv\u001b[0m\u001b[1;33m\u001b[0m\u001b[0m\n\u001b[0;32m    281\u001b[0m                     \u001b[1;32mif\u001b[0m \u001b[0mw\u001b[0m \u001b[1;32min\u001b[0m \u001b[0msucc\u001b[0m\u001b[1;33m:\u001b[0m  \u001b[1;31m# path found\u001b[0m\u001b[1;33m\u001b[0m\u001b[0m\n",
      "\u001b[1;31mKeyboardInterrupt\u001b[0m: "
     ]
    }
   ],
   "source": [
    "n_splits = 3\n",
    "kf = KFold(n_splits=n_splits, shuffle=True, random_state=27)\n",
    "mgia = MGIA(cat_graph)\n",
    "\n",
    "train_index, test_index = 0, 0\n",
    "for item in kf.split(ids):\n",
    "    \n",
    "    train_index, test_index = item[0], item[1]\n",
    "    \n",
    "    print(\"TRAIN:\", train_index, \"TEST:\", test_index)\n",
    "    print(len(train_index), len(test_index))\n",
    "    \n",
    "    n_neighbors = 10\n",
    "    clf = CustomKNN(n_neighbors=n_neighbors)\n",
    "    clf.fit(X[train_index], y[train_index])\n",
    "    \n",
    "    prec, rec, f1 = 0, 0, 0\n",
    "    mgia_score = 0\n",
    "    batch_size = 800\n",
    "    for i1 in trange(0, len(test_index), batch_size):\n",
    "        res = clf.predict(X[test_index[i1:i1+batch_size]])\n",
    "        y_true = y[test_index[i1:i1+batch_size]]\n",
    "        \n",
    "        lprec, lrec = 0, 0\n",
    "        lmgia_score = 0\n",
    "        for i in range(len(res)):\n",
    "            ind1 = [j for j in range(len(y_true[i])) if y_true[i][j] == 1]\n",
    "            ind2 = [j for j in range(len(res[i])) if res[i][j] == 1]\n",
    "\n",
    "            _y_true = set(ok[j] for j in ind1)\n",
    "            _res = set(ok[j] for j in ind2)\n",
    "            \n",
    "            _Y_true = set(cat_id[c] for c in _y_true)\n",
    "            _Res = set(cat_id[c] for c in _res)\n",
    "            \n",
    "            _mgia_score = mgia.score(_Y_true, _Res)\n",
    "            _prec = metric(_res, _y_true)\n",
    "            _rec = metric(_y_true, _res)\n",
    "            lmgia_score += _mgia_score\n",
    "            lprec += _prec\n",
    "            lrec += _rec\n",
    "        prec += lprec\n",
    "        rec += lrec\n",
    "        mgia_score += lmgia_score\n",
    "        \n",
    "\n",
    "    prec = prec / len(test_index)\n",
    "    rec = rec / len(test_index)\n",
    "    mgia_score = mgia_score / len(test_index)\n",
    "    f1 = 2 * prec * rec / (prec + rec)\n",
    "    print(prec)\n",
    "    print(rec)\n",
    "    print(f1)\n",
    "    print(mgia_score)"
   ]
  },
  {
   "cell_type": "markdown",
   "metadata": {},
   "source": [
    "### Тут custom knn на центроидаx"
   ]
  },
  {
   "cell_type": "code",
   "execution_count": 8,
   "metadata": {},
   "outputs": [],
   "source": [
    "y_centroids = np.diag([1] * len(ok))"
   ]
  },
  {
   "cell_type": "code",
   "execution_count": 12,
   "metadata": {},
   "outputs": [],
   "source": [
    "n_neighbors = 10\n",
    "clf = CustomKNN(n_neighbors=n_neighbors)\n",
    "mgia = MGIA(cat_graph)"
   ]
  },
  {
   "cell_type": "code",
   "execution_count": 13,
   "metadata": {},
   "outputs": [],
   "source": [
    "clf.fit(class_centroids, y_centroids)"
   ]
  },
  {
   "cell_type": "code",
   "execution_count": 14,
   "metadata": {},
   "outputs": [
    {
     "name": "stdout",
     "output_type": "stream",
     "text": [
      "TRAIN: [    0     1     2 ... 96790 96792 96793] TEST: [    3     4     7 ... 96785 96789 96791]\n",
      "64529 32265\n"
     ]
    },
    {
     "name": "stderr",
     "output_type": "stream",
     "text": [
      "100%|████████████████████████████████████████████████████████████████████████████| 32265/32265 [13:31<00:00, 39.78it/s]\n"
     ]
    },
    {
     "name": "stdout",
     "output_type": "stream",
     "text": [
      "Precision 0.2412924221293217\n",
      "Recall 0.9365051081301189\n",
      "F1 0.3837188991683869\n",
      "MGIA 0.5154485635803016\n",
      "TRAIN: [    2     3     4 ... 96791 96792 96793] TEST: [    0     1     5 ... 96787 96788 96790]\n",
      "64529 32265\n"
     ]
    },
    {
     "name": "stderr",
     "output_type": "stream",
     "text": [
      " 24%|██████████████████▏                                                          | 7635/32265 [03:37<11:40, 35.14it/s]"
     ]
    },
    {
     "ename": "KeyboardInterrupt",
     "evalue": "",
     "output_type": "error",
     "traceback": [
      "\u001b[1;31m---------------------------------------------------------------------------\u001b[0m",
      "\u001b[1;31mKeyboardInterrupt\u001b[0m                         Traceback (most recent call last)",
      "\u001b[1;32m<ipython-input-14-0d8329082522>\u001b[0m in \u001b[0;36m<module>\u001b[1;34m()\u001b[0m\n\u001b[0;32m     23\u001b[0m     \u001b[0mprec\u001b[0m\u001b[1;33m,\u001b[0m \u001b[0mrec\u001b[0m\u001b[1;33m,\u001b[0m \u001b[0mf1\u001b[0m\u001b[1;33m,\u001b[0m \u001b[0mmgia_score\u001b[0m \u001b[1;33m=\u001b[0m \u001b[1;36m0\u001b[0m\u001b[1;33m,\u001b[0m \u001b[1;36m0\u001b[0m\u001b[1;33m,\u001b[0m \u001b[1;36m0\u001b[0m\u001b[1;33m,\u001b[0m \u001b[1;36m0\u001b[0m\u001b[1;33m\u001b[0m\u001b[0m\n\u001b[0;32m     24\u001b[0m     \u001b[1;32mfor\u001b[0m \u001b[0mi\u001b[0m \u001b[1;32min\u001b[0m \u001b[0mtrange\u001b[0m\u001b[1;33m(\u001b[0m\u001b[0mlen\u001b[0m\u001b[1;33m(\u001b[0m\u001b[0mres\u001b[0m\u001b[1;33m)\u001b[0m\u001b[1;33m)\u001b[0m\u001b[1;33m:\u001b[0m\u001b[1;33m\u001b[0m\u001b[0m\n\u001b[1;32m---> 25\u001b[1;33m         \u001b[0mind1\u001b[0m \u001b[1;33m=\u001b[0m \u001b[1;33m[\u001b[0m\u001b[0mj\u001b[0m \u001b[1;32mfor\u001b[0m \u001b[0mj\u001b[0m \u001b[1;32min\u001b[0m \u001b[0mrange\u001b[0m\u001b[1;33m(\u001b[0m\u001b[0mlen\u001b[0m\u001b[1;33m(\u001b[0m\u001b[0my_true\u001b[0m\u001b[1;33m[\u001b[0m\u001b[0mi\u001b[0m\u001b[1;33m]\u001b[0m\u001b[1;33m)\u001b[0m\u001b[1;33m)\u001b[0m \u001b[1;32mif\u001b[0m \u001b[0my_true\u001b[0m\u001b[1;33m[\u001b[0m\u001b[0mi\u001b[0m\u001b[1;33m]\u001b[0m\u001b[1;33m[\u001b[0m\u001b[0mj\u001b[0m\u001b[1;33m]\u001b[0m \u001b[1;33m==\u001b[0m \u001b[1;36m1\u001b[0m\u001b[1;33m]\u001b[0m\u001b[1;33m\u001b[0m\u001b[0m\n\u001b[0m\u001b[0;32m     26\u001b[0m         \u001b[0mind2\u001b[0m \u001b[1;33m=\u001b[0m \u001b[1;33m[\u001b[0m\u001b[0mj\u001b[0m \u001b[1;32mfor\u001b[0m \u001b[0mj\u001b[0m \u001b[1;32min\u001b[0m \u001b[0mrange\u001b[0m\u001b[1;33m(\u001b[0m\u001b[0mlen\u001b[0m\u001b[1;33m(\u001b[0m\u001b[0mres\u001b[0m\u001b[1;33m[\u001b[0m\u001b[0mi\u001b[0m\u001b[1;33m]\u001b[0m\u001b[1;33m)\u001b[0m\u001b[1;33m)\u001b[0m \u001b[1;32mif\u001b[0m \u001b[0mres\u001b[0m\u001b[1;33m[\u001b[0m\u001b[0mi\u001b[0m\u001b[1;33m]\u001b[0m\u001b[1;33m[\u001b[0m\u001b[0mj\u001b[0m\u001b[1;33m]\u001b[0m \u001b[1;33m==\u001b[0m \u001b[1;36m1\u001b[0m\u001b[1;33m]\u001b[0m\u001b[1;33m\u001b[0m\u001b[0m\n\u001b[0;32m     27\u001b[0m \u001b[1;33m\u001b[0m\u001b[0m\n",
      "\u001b[1;32m<ipython-input-14-0d8329082522>\u001b[0m in \u001b[0;36m<listcomp>\u001b[1;34m(.0)\u001b[0m\n\u001b[0;32m     23\u001b[0m     \u001b[0mprec\u001b[0m\u001b[1;33m,\u001b[0m \u001b[0mrec\u001b[0m\u001b[1;33m,\u001b[0m \u001b[0mf1\u001b[0m\u001b[1;33m,\u001b[0m \u001b[0mmgia_score\u001b[0m \u001b[1;33m=\u001b[0m \u001b[1;36m0\u001b[0m\u001b[1;33m,\u001b[0m \u001b[1;36m0\u001b[0m\u001b[1;33m,\u001b[0m \u001b[1;36m0\u001b[0m\u001b[1;33m,\u001b[0m \u001b[1;36m0\u001b[0m\u001b[1;33m\u001b[0m\u001b[0m\n\u001b[0;32m     24\u001b[0m     \u001b[1;32mfor\u001b[0m \u001b[0mi\u001b[0m \u001b[1;32min\u001b[0m \u001b[0mtrange\u001b[0m\u001b[1;33m(\u001b[0m\u001b[0mlen\u001b[0m\u001b[1;33m(\u001b[0m\u001b[0mres\u001b[0m\u001b[1;33m)\u001b[0m\u001b[1;33m)\u001b[0m\u001b[1;33m:\u001b[0m\u001b[1;33m\u001b[0m\u001b[0m\n\u001b[1;32m---> 25\u001b[1;33m         \u001b[0mind1\u001b[0m \u001b[1;33m=\u001b[0m \u001b[1;33m[\u001b[0m\u001b[0mj\u001b[0m \u001b[1;32mfor\u001b[0m \u001b[0mj\u001b[0m \u001b[1;32min\u001b[0m \u001b[0mrange\u001b[0m\u001b[1;33m(\u001b[0m\u001b[0mlen\u001b[0m\u001b[1;33m(\u001b[0m\u001b[0my_true\u001b[0m\u001b[1;33m[\u001b[0m\u001b[0mi\u001b[0m\u001b[1;33m]\u001b[0m\u001b[1;33m)\u001b[0m\u001b[1;33m)\u001b[0m \u001b[1;32mif\u001b[0m \u001b[0my_true\u001b[0m\u001b[1;33m[\u001b[0m\u001b[0mi\u001b[0m\u001b[1;33m]\u001b[0m\u001b[1;33m[\u001b[0m\u001b[0mj\u001b[0m\u001b[1;33m]\u001b[0m \u001b[1;33m==\u001b[0m \u001b[1;36m1\u001b[0m\u001b[1;33m]\u001b[0m\u001b[1;33m\u001b[0m\u001b[0m\n\u001b[0m\u001b[0;32m     26\u001b[0m         \u001b[0mind2\u001b[0m \u001b[1;33m=\u001b[0m \u001b[1;33m[\u001b[0m\u001b[0mj\u001b[0m \u001b[1;32mfor\u001b[0m \u001b[0mj\u001b[0m \u001b[1;32min\u001b[0m \u001b[0mrange\u001b[0m\u001b[1;33m(\u001b[0m\u001b[0mlen\u001b[0m\u001b[1;33m(\u001b[0m\u001b[0mres\u001b[0m\u001b[1;33m[\u001b[0m\u001b[0mi\u001b[0m\u001b[1;33m]\u001b[0m\u001b[1;33m)\u001b[0m\u001b[1;33m)\u001b[0m \u001b[1;32mif\u001b[0m \u001b[0mres\u001b[0m\u001b[1;33m[\u001b[0m\u001b[0mi\u001b[0m\u001b[1;33m]\u001b[0m\u001b[1;33m[\u001b[0m\u001b[0mj\u001b[0m\u001b[1;33m]\u001b[0m \u001b[1;33m==\u001b[0m \u001b[1;36m1\u001b[0m\u001b[1;33m]\u001b[0m\u001b[1;33m\u001b[0m\u001b[0m\n\u001b[0;32m     27\u001b[0m \u001b[1;33m\u001b[0m\u001b[0m\n",
      "\u001b[1;31mKeyboardInterrupt\u001b[0m: "
     ]
    },
    {
     "name": "stderr",
     "output_type": "stream",
     "text": [
      "\r",
      " 24%|██████████████████▏                                                          | 7635/32265 [03:50<12:24, 33.07it/s]"
     ]
    }
   ],
   "source": [
    "n_splits = 3\n",
    "kf = KFold(n_splits=n_splits, shuffle=True, random_state=27)\n",
    "\n",
    "train_index, test_index = 0, 0\n",
    "for item in kf.split(ids):\n",
    "    \n",
    "    train_index, test_index = item[0], item[1]\n",
    "    \n",
    "    print(\"TRAIN:\", train_index, \"TEST:\", test_index)\n",
    "    print(len(train_index), len(test_index))\n",
    "    \n",
    "    res = clf.predict(X[test_index])\n",
    "    \n",
    "    y_true = []\n",
    "    for i in test_index:\n",
    "        indices = [ok.index(cat) for cat in categories_dict[ids[i]]]\n",
    "        _y_true = np.zeros(len(ok), dtype=int)\n",
    "        for index in indices:\n",
    "            _y_true[index] = 1\n",
    "        y_true.append(_y_true)\n",
    "        \n",
    "\n",
    "    prec, rec, f1, mgia_score = 0, 0, 0, 0\n",
    "    for i in trange(len(res)):\n",
    "        ind1 = [j for j in range(len(y_true[i])) if y_true[i][j] == 1]\n",
    "        ind2 = [j for j in range(len(res[i])) if res[i][j] == 1]\n",
    "\n",
    "        _y_true = set(ok[j] for j in ind1)\n",
    "        _res = set(ok[j] for j in ind2)\n",
    "            \n",
    "        _Y_true = set(cat_id[c] for c in _y_true)\n",
    "        _Res = set(cat_id[c] for c in _res)\n",
    "\n",
    "        prec += metric(_res, _y_true)\n",
    "        rec += metric(_y_true, _res)\n",
    "        mgia_score += mgia.score(_Y_true, _Res)\n",
    "\n",
    "\n",
    "    prec = prec / len(res)\n",
    "    rec = rec / len(res)\n",
    "    mgia_score = mgia_score / len(res)\n",
    "    f1 = 2 * prec * rec / (prec + rec)\n",
    "    print(\"Precision\", prec)\n",
    "    print(\"Recall\", rec)\n",
    "    print(\"F1\", f1)\n",
    "    print(\"MGIA\", mgia_score)"
   ]
  },
  {
   "cell_type": "markdown",
   "metadata": {},
   "source": [
    "### Тут custom knn + фильтрация результатов с помощью логистической регрессией"
   ]
  },
  {
   "cell_type": "code",
   "execution_count": 10,
   "metadata": {},
   "outputs": [
    {
     "name": "stderr",
     "output_type": "stream",
     "text": [
      "\r",
      "0it [00:00, ?it/s]"
     ]
    },
    {
     "name": "stdout",
     "output_type": "stream",
     "text": [
      "TRAIN: [    0     1     2 ... 96790 96792 96793] TEST: [    3     4     7 ... 96785 96789 96791]\n",
      "64529 32265\n",
      "Applied logistic regression\n",
      "0.09874151065457365\n",
      "0.16274867769990758\n",
      "0.12291130611247503\n",
      "1.622160235549357\n"
     ]
    },
    {
     "name": "stderr",
     "output_type": "stream",
     "text": [
      "\r",
      "1it [14:39, 879.87s/it]"
     ]
    },
    {
     "name": "stdout",
     "output_type": "stream",
     "text": [
      "TRAIN: [    2     3     4 ... 96791 96792 96793] TEST: [    0     1     5 ... 96787 96788 96790]\n",
      "64529 32265\n",
      "Applied logistic regression\n",
      "0.10253198340134595\n",
      "0.16662513070537002\n",
      "0.12694745366423002\n",
      "1.6812025414535874\n"
     ]
    },
    {
     "name": "stderr",
     "output_type": "stream",
     "text": [
      "\r",
      "2it [29:29, 884.78s/it]"
     ]
    },
    {
     "name": "stdout",
     "output_type": "stream",
     "text": [
      "TRAIN: [    0     1     3 ... 96789 96790 96791] TEST: [    2     6     9 ... 96786 96792 96793]\n",
      "64530 32264\n",
      "Applied logistic regression\n",
      "0.10071588216656961\n",
      "0.16340755757321265\n",
      "0.12462155066498448\n",
      "1.630424001983635\n"
     ]
    },
    {
     "name": "stderr",
     "output_type": "stream",
     "text": [
      "3it [44:22, 887.41s/it]\n"
     ]
    }
   ],
   "source": [
    "n_splits = 3\n",
    "kf = KFold(n_splits=n_splits, shuffle=True, random_state=27)\n",
    "\n",
    "k = 0\n",
    "train_index, test_index = 0, 0\n",
    "for item in tqdm(kf.split(ids)):\n",
    "    \n",
    "    train_index, test_index = item[0], item[1]\n",
    "    \n",
    "    print(\"TRAIN:\", train_index, \"TEST:\", test_index)\n",
    "    print(len(train_index), len(test_index))\n",
    "    \n",
    "    res = clf.predict(X[test_index])\n",
    "    \n",
    "    for i in range(len(test_index)):\n",
    "        X_left = sparse.vstack([X[test_index[i]]] * n_neighbors)\n",
    "        ind2 = [j for j in range(len(res[i])) if res[i][j] == 1]\n",
    "        X_full = sparse.hstack([X_left, filter_centroids[ind2]])\n",
    "        _proba = clf_binlogreg[k].predict_proba(X_full)\n",
    "        \n",
    "        _proba = _proba.transpose()[1]\n",
    "        _res = [1 if p > 0.5 else 0 for p in _proba]\n",
    "        \n",
    "        for j, ind in enumerate(ind2):\n",
    "            if _res[j] == 0:\n",
    "                res[i][ind] = 0\n",
    "    \n",
    "    print(\"Applied logistic regression\")\n",
    "    y_true = []\n",
    "    for i in test_index:\n",
    "        indices = [ok.index(cat) for cat in categories_dict[ids[i]]]\n",
    "        _y_true = np.zeros(len(ok), dtype=int)\n",
    "        for index in indices:\n",
    "            _y_true[index] = 1\n",
    "        y_true.append(_y_true)\n",
    "        \n",
    "\n",
    "    prec, rec, f1, mean_res_len = 0, 0, 0, 0\n",
    "    for i in range(len(res)):\n",
    "        ind1 = [j for j in range(len(y_true[i])) if y_true[i][j] == 1]\n",
    "        ind2 = [j for j in range(len(res[i])) if res[i][j] == 1]\n",
    "        mean_res_len += len(ind2)\n",
    "        \n",
    "        _y_true = [ok[j] for j in ind1]\n",
    "        _res =[ok[j] for j in ind2]\n",
    "\n",
    "        prec += metric(_res, _y_true)\n",
    "        rec += metric(_y_true, _res)\n",
    "\n",
    "\n",
    "    prec = prec / len(res)\n",
    "    rec = rec / len(res)\n",
    "    f1 = 2 * prec * rec / (prec + rec)\n",
    "    print(prec)\n",
    "    print(rec)\n",
    "    print(f1)\n",
    "    print(mean_res_len / len(res))\n",
    "    \n",
    "    k += 1"
   ]
  },
  {
   "cell_type": "code",
   "execution_count": 6,
   "metadata": {},
   "outputs": [
    {
     "name": "stdout",
     "output_type": "stream",
     "text": [
      "[0, 1]\n",
      "[2, 3]\n",
      "[4, 5]\n",
      "[6, 7]\n",
      "[8, 9]\n",
      "[10]\n"
     ]
    }
   ],
   "source": [
    "a = [i for i in range(11)]\n",
    "for i in range(0, len(a), 2):\n",
    "    print(a[i:i+2])"
   ]
  }
 ],
 "metadata": {
  "kernelspec": {
   "display_name": "Python 3",
   "language": "python",
   "name": "python3"
  },
  "language_info": {
   "codemirror_mode": {
    "name": "ipython",
    "version": 3
   },
   "file_extension": ".py",
   "mimetype": "text/x-python",
   "name": "python",
   "nbconvert_exporter": "python",
   "pygments_lexer": "ipython3",
   "version": "3.6.4"
  }
 },
 "nbformat": 4,
 "nbformat_minor": 2
}
